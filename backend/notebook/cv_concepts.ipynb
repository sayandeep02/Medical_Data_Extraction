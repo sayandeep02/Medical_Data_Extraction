{
 "cells": [
  {
   "cell_type": "code",
   "execution_count": 9,
   "id": "876bc9a9-11a2-40e9-b6d7-c626937a1868",
   "metadata": {},
   "outputs": [],
   "source": [
    "from PIL import Image"
   ]
  },
  {
   "cell_type": "code",
   "execution_count": 10,
   "id": "fc547f40-55af-450f-ad29-5e2f5c21fe1f",
   "metadata": {},
   "outputs": [],
   "source": [
    "import cv2"
   ]
  },
  {
   "cell_type": "code",
   "execution_count": 11,
   "id": "f84d6de2-1d79-4b13-9d50-cdffa742e592",
   "metadata": {},
   "outputs": [
    {
     "name": "stdout",
     "output_type": "stream",
     "text": [
      "[[206 206 206 ... 185 185 185]\n",
      " [206 206 206 ... 185 185 185]\n",
      " [206 206 206 ... 186 185 185]\n",
      " ...\n",
      " [207 207 207 ... 191 190 190]\n",
      " [207 207 207 ... 191 190 190]\n",
      " [207 207 207 ... 191 191 190]]\n"
     ]
    }
   ],
   "source": [
    "img = cv2.imread(\"clear_image.jpg\", flags=cv2.IMREAD_GRAYSCALE)\n",
    "print(img)"
   ]
  },
  {
   "cell_type": "code",
   "execution_count": 12,
   "id": "e952f2e4-5ca2-40bd-90e8-50b4d977ab19",
   "metadata": {},
   "outputs": [],
   "source": [
    "_, new_img=cv2.threshold(img,150,255,cv2.THRESH_BINARY)\n",
    "Image.fromarray(new_img).show()"
   ]
  },
  {
   "cell_type": "code",
   "execution_count": 13,
   "id": "6a0a30f6-6d93-4db0-8802-4ddb464e7253",
   "metadata": {},
   "outputs": [],
   "source": [
    "new_img = cv2.adaptiveThreshold(\n",
    "    img, 255,\n",
    "    cv2.ADAPTIVE_THRESH_GAUSSIAN_C,\n",
    "    cv2.THRESH_BINARY,\n",
    "    61,\n",
    "    11\n",
    ")\n",
    "Image.fromarray(new_img).show()"
   ]
  }
 ],
 "metadata": {
  "kernelspec": {
   "display_name": "Python 3 (ipykernel)",
   "language": "python",
   "name": "python3"
  },
  "language_info": {
   "codemirror_mode": {
    "name": "ipython",
    "version": 3
   },
   "file_extension": ".py",
   "mimetype": "text/x-python",
   "name": "python",
   "nbconvert_exporter": "python",
   "pygments_lexer": "ipython3",
   "version": "3.8.10"
  }
 },
 "nbformat": 4,
 "nbformat_minor": 5
}
