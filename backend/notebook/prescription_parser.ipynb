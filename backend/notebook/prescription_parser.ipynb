{
 "cells": [
  {
   "cell_type": "code",
   "execution_count": 13,
   "id": "697e81c2-05e3-4f02-8159-dd738521459b",
   "metadata": {},
   "outputs": [],
   "source": [
    "from pdf2image import convert_from_path"
   ]
  },
  {
   "cell_type": "code",
   "execution_count": 14,
   "id": "cda34ae2-a249-4664-8aa7-3a058256ab82",
   "metadata": {},
   "outputs": [],
   "source": [
    "pages = convert_from_path(r'docs\\prescription\\pre_1.pdf', poppler_path=r'C:\\poppler-23.08.0\\Library\\bin')"
   ]
  },
  {
   "cell_type": "code",
   "execution_count": 15,
   "id": "a220edfc-1a33-4a4c-9589-445bea71c1b8",
   "metadata": {},
   "outputs": [
    {
     "data": {
      "text/plain": [
       "[<PIL.PpmImagePlugin.PpmImageFile image mode=RGB size=1700x2200 at 0x10C79D7F4F0>]"
      ]
     },
     "execution_count": 15,
     "metadata": {},
     "output_type": "execute_result"
    }
   ],
   "source": [
    "pages"
   ]
  },
  {
   "cell_type": "code",
   "execution_count": 16,
   "id": "3c1e93b5-fd0e-4300-9f42-48aa1aa9c810",
   "metadata": {},
   "outputs": [
    {
     "data": {
      "text/plain": [
       "1"
      ]
     },
     "execution_count": 16,
     "metadata": {},
     "output_type": "execute_result"
    }
   ],
   "source": [
    "\n",
    "len(pages)"
   ]
  },
  {
   "cell_type": "code",
   "execution_count": 17,
   "id": "224c190b-bcfa-49f4-a630-06f4efca1f8d",
   "metadata": {},
   "outputs": [],
   "source": [
    "pages[0].show()"
   ]
  },
  {
   "cell_type": "code",
   "execution_count": 18,
   "id": "ca8e54ef-f040-41d8-80d3-b52b5e77abd2",
   "metadata": {},
   "outputs": [],
   "source": [
    "import pytesseract"
   ]
  },
  {
   "cell_type": "code",
   "execution_count": 19,
   "id": "f8250ec1-c7c6-4bdf-9a58-f21e55f2fbd6",
   "metadata": {},
   "outputs": [
    {
     "name": "stdout",
     "output_type": "stream",
     "text": [
      "Dr John Smith, M.D\n",
      "2 Non-Important Street,\n",
      "New York, Phone (000)-111-2222\n",
      "\n",
      "Name: Maria Sharapova Date: 5/11/2022\n",
      "\n",
      "Address: 9 tennis court, new Russia, DC\n",
      "\n",
      "—moemenmannenneneneunmnnnnennieesisiyoinnitniahadaaanniihsnseneneneeeernnttnnneenrenen:\n",
      "\n",
      "Prednisone 20 mg\n",
      "Lialda 2.4 gram\n",
      "\n",
      "3 days,\n",
      "\n",
      "or 1 month\n"
     ]
    }
   ],
   "source": [
    "pytesseract.pytesseract.tesseract_cmd=r'C:\\Program Files\\Tesseract-OCR\\tesseract.exe'\n",
    "text=pytesseract.image_to_string(pages[0],lang='eng')\n",
    "print(text)"
   ]
  },
  {
   "cell_type": "code",
   "execution_count": 20,
   "id": "a476495e-8552-4f59-b24d-b3b662c1e238",
   "metadata": {},
   "outputs": [],
   "source": [
    "import numpy as np\n",
    "import cv2\n",
    "from PIL import Image\n",
    "\n",
    "def preprocess_image(img):\n",
    "    gray = cv2.cvtColor(np.array(img), cv2.COLOR_BGR2GRAY)\n",
    "    resized = cv2.resize(gray, None, fx=1.5, fy=1.5, interpolation=cv2.INTER_LINEAR)\n",
    "    processed_image = cv2.adaptiveThreshold(\n",
    "        resized,\n",
    "        255,\n",
    "        cv2.ADAPTIVE_THRESH_GAUSSIAN_C,\n",
    "        cv2.THRESH_BINARY,\n",
    "        61,\n",
    "        11\n",
    "    )\n",
    "    return processed_image\n"
   ]
  },
  {
   "cell_type": "code",
   "execution_count": 24,
   "id": "0cb9793b-5be4-4f37-a834-e7b75a81a0eb",
   "metadata": {},
   "outputs": [],
   "source": [
    "img = preprocess_image(pages[0])\n",
    "Image.fromarray(img).show()\n"
   ]
  },
  {
   "cell_type": "code",
   "execution_count": 23,
   "id": "ef79ed18-2cc0-4ab6-8df2-ef682f50f5e8",
   "metadata": {},
   "outputs": [
    {
     "name": "stdout",
     "output_type": "stream",
     "text": [
      "Dr John Smith, M.D\n",
      "2 Non-Important Street,\n",
      "New York, Phone (000)-111-2222\n",
      "\n",
      "Name: Marta Sharapova Date: 5/11/2022\n",
      "\n",
      "Address: 9 tennis court, new Russia, DC\n",
      "\n",
      "K\n",
      "\n",
      "Prednisone 20 mg\n",
      "Lialda 2.4 gram\n",
      "\n",
      "Directions:\n",
      "\n",
      "Prednisone, Taper 5 mig every 3 days,\n",
      "Finish in 2.5 weeks a\n",
      "Lialda - take 2 pill everyday for 1 month\n",
      "\n",
      "Refill: 2 times\n"
     ]
    }
   ],
   "source": [
    "pytesseract.pytesseract.tesseract_cmd=r'C:\\Program Files\\Tesseract-OCR\\tesseract.exe'\n",
    "text=pytesseract.image_to_string(img,lang='eng')\n",
    "print(text)"
   ]
  },
  {
   "cell_type": "code",
   "execution_count": null,
   "id": "a2dc6290-a4b0-4f23-b075-6451418e0318",
   "metadata": {},
   "outputs": [],
   "source": []
  },
  {
   "cell_type": "code",
   "execution_count": null,
   "id": "80f8562f-d3e5-4647-9903-7b407d529664",
   "metadata": {},
   "outputs": [],
   "source": []
  },
  {
   "cell_type": "code",
   "execution_count": null,
   "id": "656774d0-6106-4a00-8059-95fed13689a1",
   "metadata": {},
   "outputs": [],
   "source": []
  }
 ],
 "metadata": {
  "kernelspec": {
   "display_name": "Python 3 (ipykernel)",
   "language": "python",
   "name": "python3"
  },
  "language_info": {
   "codemirror_mode": {
    "name": "ipython",
    "version": 3
   },
   "file_extension": ".py",
   "mimetype": "text/x-python",
   "name": "python",
   "nbconvert_exporter": "python",
   "pygments_lexer": "ipython3",
   "version": "3.8.10"
  }
 },
 "nbformat": 4,
 "nbformat_minor": 5
}
